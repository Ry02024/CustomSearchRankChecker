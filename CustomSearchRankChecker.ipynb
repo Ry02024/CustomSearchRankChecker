{
  "nbformat": 4,
  "nbformat_minor": 0,
  "metadata": {
    "colab": {
      "provenance": [],
      "toc_visible": true,
      "authorship_tag": "ABX9TyOZRDpvC07GEq9C79nBtcc0",
      "include_colab_link": true
    },
    "kernelspec": {
      "name": "python3",
      "display_name": "Python 3"
    },
    "language_info": {
      "name": "python"
    }
  },
  "cells": [
    {
      "cell_type": "markdown",
      "metadata": {
        "id": "view-in-github",
        "colab_type": "text"
      },
      "source": [
        "<a href=\"https://colab.research.google.com/github/Ry02024/CustomSearchRankChecker/blob/main/CustomSearchRankChecker.ipynb\" target=\"_parent\"><img src=\"https://colab.research.google.com/assets/colab-badge.svg\" alt=\"Open In Colab\"/></a>"
      ]
    },
    {
      "cell_type": "markdown",
      "source": [
        "制作過程：https://chatgpt.com/share/5f9e1948-f7f6-45e3-9fe5-2bb911918d2d"
      ],
      "metadata": {
        "id": "rCTz6Sj42B7r"
      }
    },
    {
      "cell_type": "markdown",
      "source": [
        "#streamlit"
      ],
      "metadata": {
        "id": "TK9akXsPphyJ"
      }
    },
    {
      "cell_type": "markdown",
      "source": [
        "##環境構築"
      ],
      "metadata": {
        "id": "FjhiI_5RaxBT"
      }
    },
    {
      "cell_type": "code",
      "source": [
        "!pip install streamlit -q\n",
        "!pip install pyngrok -q"
      ],
      "metadata": {
        "id": "pLVss0HH_EH3",
        "colab": {
          "base_uri": "https://localhost:8080/"
        },
        "outputId": "a48fc67c-718f-43ff-ff21-ca606d1ab316"
      },
      "execution_count": null,
      "outputs": [
        {
          "output_type": "stream",
          "name": "stdout",
          "text": [
            "\u001b[2K     \u001b[90m━━━━━━━━━━━━━━━━━━━━━━━━━━━━━━━━━━━━━━━━\u001b[0m \u001b[32m8.6/8.6 MB\u001b[0m \u001b[31m46.3 MB/s\u001b[0m eta \u001b[36m0:00:00\u001b[0m\n",
            "\u001b[2K     \u001b[90m━━━━━━━━━━━━━━━━━━━━━━━━━━━━━━━━━━━━━━━━\u001b[0m \u001b[32m207.3/207.3 kB\u001b[0m \u001b[31m21.7 MB/s\u001b[0m eta \u001b[36m0:00:00\u001b[0m\n",
            "\u001b[2K     \u001b[90m━━━━━━━━━━━━━━━━━━━━━━━━━━━━━━━━━━━━━━━━\u001b[0m \u001b[32m6.9/6.9 MB\u001b[0m \u001b[31m80.1 MB/s\u001b[0m eta \u001b[36m0:00:00\u001b[0m\n",
            "\u001b[2K     \u001b[90m━━━━━━━━━━━━━━━━━━━━━━━━━━━━━━━━━━━━━━━━\u001b[0m \u001b[32m83.0/83.0 kB\u001b[0m \u001b[31m9.4 MB/s\u001b[0m eta \u001b[36m0:00:00\u001b[0m\n",
            "\u001b[2K     \u001b[90m━━━━━━━━━━━━━━━━━━━━━━━━━━━━━━━━━━━━━━━━\u001b[0m \u001b[32m62.7/62.7 kB\u001b[0m \u001b[31m6.6 MB/s\u001b[0m eta \u001b[36m0:00:00\u001b[0m\n",
            "\u001b[?25h"
          ]
        }
      ]
    },
    {
      "cell_type": "code",
      "source": [
        "import streamlit as st\n",
        "from pyngrok import ngrok"
      ],
      "metadata": {
        "id": "TTY0OiXe_EH3"
      },
      "execution_count": null,
      "outputs": []
    },
    {
      "cell_type": "code",
      "source": [
        "from google.colab import userdata\n",
        "NGROK_AUTH_TOKEN = userdata.get('NGROK_AUTH_TOKEN')"
      ],
      "metadata": {
        "id": "jrwKKu_l_EH3"
      },
      "execution_count": null,
      "outputs": []
    },
    {
      "cell_type": "code",
      "source": [
        "from pyngrok import ngrok\n",
        "import os\n",
        "\n",
        "# ngrokトークンを設定\n",
        "ngrok.set_auth_token(NGROK_AUTH_TOKEN)"
      ],
      "metadata": {
        "id": "5LnTPHs1_EH3",
        "colab": {
          "base_uri": "https://localhost:8080/"
        },
        "outputId": "4fa85e25-4c8d-454a-c3ca-4f5a6833c6ce"
      },
      "execution_count": null,
      "outputs": [
        {
          "output_type": "stream",
          "name": "stdout",
          "text": []
        }
      ]
    },
    {
      "cell_type": "markdown",
      "source": [
        "## streamlit files"
      ],
      "metadata": {
        "id": "Z8bgL6DOvnaF"
      }
    },
    {
      "cell_type": "code",
      "source": [
        "%%writefile fetch.py\n",
        "import requests\n",
        "\n",
        "def fetch_search_results(keyword, api_key, cse_id, num_results=10, start=1):\n",
        "    search_url = \"https://www.googleapis.com/customsearch/v1\"\n",
        "    params = {\n",
        "        'q': keyword,\n",
        "        'key': api_key,\n",
        "        'cx': cse_id,\n",
        "        'num': min(num_results, 10),\n",
        "        'start': start\n",
        "    }\n",
        "\n",
        "    response = requests.get(search_url, params=params)\n",
        "    if response.status_code == 200:\n",
        "        return response.json()\n",
        "    else:\n",
        "        print(f\"検索に失敗しました。ステータスコード: {response.status_code}\")\n",
        "        print(f\"エラーメッセージ: {response.text}\")\n",
        "        return None\n"
      ],
      "metadata": {
        "colab": {
          "base_uri": "https://localhost:8080/"
        },
        "outputId": "149ad3e4-1106-46b8-bbd5-f7877f803895",
        "id": "01qtWfo7u8ob"
      },
      "execution_count": null,
      "outputs": [
        {
          "output_type": "stream",
          "name": "stdout",
          "text": [
            "Overwriting fetch.py\n"
          ]
        }
      ]
    },
    {
      "cell_type": "code",
      "source": [
        "%%writefile ranking.py\n",
        "from fetch import fetch_search_results\n",
        "\n",
        "def check_rankings(keywords, target_url, api_key, cse_id, max_results=30):\n",
        "    rankings = []\n",
        "    for keyword in keywords:\n",
        "        results = []\n",
        "        for start in range(1, max_results + 1, 10):\n",
        "            batch_results = fetch_search_results(keyword, api_key, cse_id, num_results=10, start=start)\n",
        "            if batch_results and 'items' in batch_results:\n",
        "                results.extend(batch_results['items'])\n",
        "                if len(batch_results['items']) < 10:\n",
        "                    break\n",
        "            else:\n",
        "                break\n",
        "\n",
        "        if results:\n",
        "            found = False\n",
        "            for index, item in enumerate(results):\n",
        "                link = item.get('link')\n",
        "                if target_url in link:\n",
        "                    rankings.append({\n",
        "                        \"keyword\": keyword,\n",
        "                        \"rank\": index + 1,\n",
        "                        \"title\": item.get('title'),\n",
        "                        \"snippet\": item.get('snippet'),\n",
        "                        \"url\": link\n",
        "                    })\n",
        "                    found = True\n",
        "                    break\n",
        "            if not found:\n",
        "                rankings.append({\n",
        "                    \"keyword\": keyword,\n",
        "                    \"rank\": None,\n",
        "                    \"title\": None,\n",
        "                    \"snippet\": None,\n",
        "                    \"url\": None\n",
        "                })\n",
        "        else:\n",
        "            rankings.append({\n",
        "                \"keyword\": keyword,\n",
        "                \"rank\": None,\n",
        "                \"title\": None,\n",
        "                \"snippet\": None,\n",
        "                \"url\": None\n",
        "            })\n",
        "    return rankings\n"
      ],
      "metadata": {
        "colab": {
          "base_uri": "https://localhost:8080/"
        },
        "outputId": "3ace2623-cf84-4589-ff9f-e023afed57ff",
        "id": "ZtAltYgyu8oc"
      },
      "execution_count": null,
      "outputs": [
        {
          "output_type": "stream",
          "name": "stdout",
          "text": [
            "Overwriting ranking.py\n"
          ]
        }
      ]
    },
    {
      "cell_type": "code",
      "source": [
        "%%writefile display.py\n",
        "import streamlit as st\n",
        "\n",
        "def display_rankings(rankings):\n",
        "    for ranking in rankings:\n",
        "        st.write(f\"キーワード: {ranking['keyword']}\")\n",
        "        if ranking['rank'] is not None:\n",
        "            st.write(f\"順位: {ranking['rank']}\")\n",
        "            st.write(f\"タイトル: {ranking['title']}\")\n",
        "            st.write(f\"スニペット: {ranking['snippet']}\")\n",
        "            st.write(f\"リンク: {ranking['url']}\")\n",
        "        else:\n",
        "            st.write(\"順位: 圏外\")\n",
        "        st.write(\"\\n\")\n"
      ],
      "metadata": {
        "colab": {
          "base_uri": "https://localhost:8080/"
        },
        "outputId": "7576194c-c7df-4bc7-c2ae-97b6d1616ab9",
        "id": "y1rPzePFu8od"
      },
      "execution_count": null,
      "outputs": [
        {
          "output_type": "stream",
          "name": "stdout",
          "text": [
            "Overwriting display.py\n"
          ]
        }
      ]
    },
    {
      "cell_type": "code",
      "source": [
        "%%writefile streamlit_app.py\n",
        "import streamlit as st\n",
        "from ranking import check_rankings\n",
        "from display import display_rankings\n",
        "\n",
        "st.title(\"自然検索順位アプリ\")\n",
        "\n",
        "# Step 1: API Key and Custom Search Engine ID\n",
        "if 'api_key' not in st.session_state:\n",
        "    st.session_state.api_key = ''\n",
        "if 'cse_id' not in st.session_state:\n",
        "    st.session_state.cse_id = ''\n",
        "\n",
        "if not st.session_state.api_key or not st.session_state.cse_id:\n",
        "    api_key = st.text_input(\"Google Search API Key\")\n",
        "    cse_id = st.text_input(\"Google Engine ID\")\n",
        "\n",
        "    if api_key and cse_id:\n",
        "        st.session_state.api_key = api_key\n",
        "        st.session_state.cse_id = cse_id\n",
        "        st.experimental_rerun()  # 入力後に再読み込みしてAPIキーとIDをセッションに保存\n",
        "else:\n",
        "    st.success(\"APIキーとカスタム検索エンジンIDが設定されました。\")\n",
        "\n",
        "    # Step 2: Target URL and Keywords\n",
        "    target_url = st.text_input(\"ターゲットURL\", \"https://porely.jp/\")\n",
        "    keywords_input = st.text_area(\"キーワード（カンマ区切り）\", \"妊娠, 出産, 育児, キャリア, 育休, 医師, 職場 復帰, パートナーシップ\")\n",
        "\n",
        "    if 'max_results' not in st.session_state:\n",
        "        st.session_state.max_results = 30\n",
        "\n",
        "    max_results = st.number_input(\"最大の検索結果の件数\", min_value=10, max_value=100, value=st.session_state.max_results, step=10)\n",
        "\n",
        "    if target_url and keywords_input:\n",
        "        st.session_state.target_url = target_url\n",
        "        st.session_state.keywords_input = keywords_input\n",
        "        st.session_state.max_results = max_results\n",
        "\n",
        "        if st.button(\"検索\"):\n",
        "            keywords = [keyword.strip() for keyword in keywords_input.split(\",\")]\n",
        "            rankings = check_rankings(keywords, target_url, st.session_state.api_key, st.session_state.cse_id, max_results=max_results)\n",
        "            display_rankings(rankings)\n"
      ],
      "metadata": {
        "colab": {
          "base_uri": "https://localhost:8080/"
        },
        "id": "udTGAf9TupLT",
        "outputId": "68afc5cd-156b-4567-e355-f1d1d8d7a280"
      },
      "execution_count": null,
      "outputs": [
        {
          "output_type": "stream",
          "name": "stdout",
          "text": [
            "Overwriting streamlit_app.py\n"
          ]
        }
      ]
    },
    {
      "cell_type": "markdown",
      "source": [
        "##アプリの起動"
      ],
      "metadata": {
        "id": "ge2S_k4za4iV"
      }
    },
    {
      "cell_type": "code",
      "source": [
        "# ngrokを介してStreamlitを公開\n",
        "public_url = ngrok.connect(addr='8501')\n",
        "print('Public URL:', public_url)"
      ],
      "metadata": {
        "colab": {
          "base_uri": "https://localhost:8080/"
        },
        "outputId": "35260ce2-644e-4531-b55f-0d3caa1e47fd",
        "id": "c4x9sz7g_EH4"
      },
      "execution_count": null,
      "outputs": [
        {
          "output_type": "stream",
          "name": "stdout",
          "text": [
            "Public URL: NgrokTunnel: \"https://2e50-107-167-188-216.ngrok-free.app\" -> \"http://localhost:8501\"\n"
          ]
        }
      ]
    },
    {
      "cell_type": "code",
      "source": [
        "# Streamlitアプリケーションの起動\n",
        "!streamlit run streamlit_app.py >/dev/null"
      ],
      "metadata": {
        "id": "OuqFYN5c_EH4",
        "colab": {
          "base_uri": "https://localhost:8080/"
        },
        "outputId": "7f774494-01ac-40fd-bedc-1beb978a8028"
      },
      "execution_count": null,
      "outputs": [
        {
          "output_type": "stream",
          "name": "stdout",
          "text": [
            "2024-06-02 02:43:04.700 Please replace `st.experimental_rerun` with `st.rerun`.\n",
            "\n",
            "`st.experimental_rerun` will be removed after 2024-04-01.\n"
          ]
        }
      ]
    }
  ]
}